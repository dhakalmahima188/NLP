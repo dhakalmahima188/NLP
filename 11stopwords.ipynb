{
 "cells": [
  {
   "cell_type": "code",
   "execution_count": 1,
   "metadata": {},
   "outputs": [
    {
     "data": {
      "text/plain": [
       "326"
      ]
     },
     "execution_count": 1,
     "metadata": {},
     "output_type": "execute_result"
    }
   ],
   "source": [
    "import spacy \n",
    "from spacy.lang.en.stop_words import STOP_WORDS\n",
    "len(STOP_WORDS)"
   ]
  },
  {
   "cell_type": "code",
   "execution_count": 22,
   "metadata": {},
   "outputs": [
    {
     "data": {
      "text/plain": [
       "'quick brown fox jumped lazy dog .'"
      ]
     },
     "execution_count": 22,
     "metadata": {},
     "output_type": "execute_result"
    }
   ],
   "source": [
    "nlp=spacy.load('en_core_web_sm')\n",
    "doc=\"The quick brown fox jumped over the lazy dog's back.\"\n",
    "def prep(x):\n",
    "    doc=nlp(x)\n",
    "    docn=[]\n",
    "    for token in doc:\n",
    "        if  not token.is_stop:\n",
    "            docn.append(token)\n",
    "    return \" \".join(str(x) for x in docn)\n",
    "prep(doc)\n"
   ]
  },
  {
   "cell_type": "code",
   "execution_count": 8,
   "metadata": {},
   "outputs": [
    {
     "data": {
      "text/plain": [
       "(13087, 6)"
      ]
     },
     "execution_count": 8,
     "metadata": {},
     "output_type": "execute_result"
    }
   ],
   "source": [
    "import pandas as pd\n",
    "df=pd.read_json('doj_press.json',lines=True) #1 line per 1 json object\n",
    "df.shape"
   ]
  },
  {
   "cell_type": "code",
   "execution_count": 9,
   "metadata": {},
   "outputs": [
    {
     "data": {
      "text/html": [
       "<div>\n",
       "<style scoped>\n",
       "    .dataframe tbody tr th:only-of-type {\n",
       "        vertical-align: middle;\n",
       "    }\n",
       "\n",
       "    .dataframe tbody tr th {\n",
       "        vertical-align: top;\n",
       "    }\n",
       "\n",
       "    .dataframe thead th {\n",
       "        text-align: right;\n",
       "    }\n",
       "</style>\n",
       "<table border=\"1\" class=\"dataframe\">\n",
       "  <thead>\n",
       "    <tr style=\"text-align: right;\">\n",
       "      <th></th>\n",
       "      <th>id</th>\n",
       "      <th>title</th>\n",
       "      <th>contents</th>\n",
       "      <th>date</th>\n",
       "      <th>topics</th>\n",
       "      <th>components</th>\n",
       "    </tr>\n",
       "  </thead>\n",
       "  <tbody>\n",
       "    <tr>\n",
       "      <th>0</th>\n",
       "      <td>None</td>\n",
       "      <td>Convicted Bomb Plotter Sentenced to 30 Years</td>\n",
       "      <td>PORTLAND, Oregon. – Mohamed Osman Mohamud, 23,...</td>\n",
       "      <td>2014-10-01T00:00:00-04:00</td>\n",
       "      <td>[]</td>\n",
       "      <td>[National Security Division (NSD)]</td>\n",
       "    </tr>\n",
       "    <tr>\n",
       "      <th>1</th>\n",
       "      <td>12-919</td>\n",
       "      <td>$1 Million in Restitution Payments Announced t...</td>\n",
       "      <td>WASHINGTON – North Carolina’s Waccamaw River...</td>\n",
       "      <td>2012-07-25T00:00:00-04:00</td>\n",
       "      <td>[]</td>\n",
       "      <td>[Environment and Natural Resources Division]</td>\n",
       "    </tr>\n",
       "    <tr>\n",
       "      <th>2</th>\n",
       "      <td>11-1002</td>\n",
       "      <td>$1 Million Settlement Reached for Natural Reso...</td>\n",
       "      <td>BOSTON– A $1-million settlement has been...</td>\n",
       "      <td>2011-08-03T00:00:00-04:00</td>\n",
       "      <td>[]</td>\n",
       "      <td>[Environment and Natural Resources Division]</td>\n",
       "    </tr>\n",
       "    <tr>\n",
       "      <th>3</th>\n",
       "      <td>10-015</td>\n",
       "      <td>10 Las Vegas Men Indicted \\r\\nfor Falsifying V...</td>\n",
       "      <td>WASHINGTON—A federal grand jury in Las Vegas...</td>\n",
       "      <td>2010-01-08T00:00:00-05:00</td>\n",
       "      <td>[]</td>\n",
       "      <td>[Environment and Natural Resources Division]</td>\n",
       "    </tr>\n",
       "    <tr>\n",
       "      <th>4</th>\n",
       "      <td>18-898</td>\n",
       "      <td>$100 Million Settlement Will Speed Cleanup Wor...</td>\n",
       "      <td>The U.S. Department of Justice, the U.S. Envir...</td>\n",
       "      <td>2018-07-09T00:00:00-04:00</td>\n",
       "      <td>[Environment]</td>\n",
       "      <td>[Environment and Natural Resources Division]</td>\n",
       "    </tr>\n",
       "  </tbody>\n",
       "</table>\n",
       "</div>"
      ],
      "text/plain": [
       "        id                                              title  \\\n",
       "0     None       Convicted Bomb Plotter Sentenced to 30 Years   \n",
       "1  12-919   $1 Million in Restitution Payments Announced t...   \n",
       "2  11-1002  $1 Million Settlement Reached for Natural Reso...   \n",
       "3   10-015  10 Las Vegas Men Indicted \\r\\nfor Falsifying V...   \n",
       "4   18-898  $100 Million Settlement Will Speed Cleanup Wor...   \n",
       "\n",
       "                                            contents  \\\n",
       "0  PORTLAND, Oregon. – Mohamed Osman Mohamud, 23,...   \n",
       "1    WASHINGTON – North Carolina’s Waccamaw River...   \n",
       "2        BOSTON– A $1-million settlement has been...   \n",
       "3    WASHINGTON—A federal grand jury in Las Vegas...   \n",
       "4  The U.S. Department of Justice, the U.S. Envir...   \n",
       "\n",
       "                        date         topics  \\\n",
       "0  2014-10-01T00:00:00-04:00             []   \n",
       "1  2012-07-25T00:00:00-04:00             []   \n",
       "2  2011-08-03T00:00:00-04:00             []   \n",
       "3  2010-01-08T00:00:00-05:00             []   \n",
       "4  2018-07-09T00:00:00-04:00  [Environment]   \n",
       "\n",
       "                                     components  \n",
       "0            [National Security Division (NSD)]  \n",
       "1  [Environment and Natural Resources Division]  \n",
       "2  [Environment and Natural Resources Division]  \n",
       "3  [Environment and Natural Resources Division]  \n",
       "4  [Environment and Natural Resources Division]  "
      ]
     },
     "execution_count": 9,
     "metadata": {},
     "output_type": "execute_result"
    }
   ],
   "source": [
    "df.head()"
   ]
  },
  {
   "cell_type": "code",
   "execution_count": 23,
   "metadata": {},
   "outputs": [
    {
     "data": {
      "text/plain": [
       "4     The U.S. Department of Justice, the U.S. Envir...\n",
       "7     A 131-count criminal indictment was unsealed t...\n",
       "19    The United States Attorney’s Office for the Mi...\n",
       "22    21st Century Oncology LLC, has agreed to pay $...\n",
       "Name: contents, dtype: object"
      ]
     },
     "execution_count": 23,
     "metadata": {},
     "output_type": "execute_result"
    }
   ],
   "source": [
    "df=df[df['topics'].str.len()!=0]\n",
    "df.shape\n",
    "test=df['contents'][:4]\n",
    "test\n"
   ]
  },
  {
   "cell_type": "code",
   "execution_count": 24,
   "metadata": {},
   "outputs": [
    {
     "data": {
      "text/plain": [
       "4     U.S. Department Justice , U.S. Environmental P...\n",
       "7     131 - count criminal indictment unsealed today...\n",
       "19    United States Attorney Office Middle District ...\n",
       "22    21st Century Oncology LLC , agreed pay $ 19.75...\n",
       "Name: contents, dtype: object"
      ]
     },
     "execution_count": 24,
     "metadata": {},
     "output_type": "execute_result"
    }
   ],
   "source": [
    "test=test.apply(prep)\n",
    "test\n"
   ]
  },
  {
   "cell_type": "code",
   "execution_count": 19,
   "metadata": {},
   "outputs": [
    {
     "data": {
      "text/plain": [
       "[Happy, valentines, day]"
      ]
     },
     "execution_count": 19,
     "metadata": {},
     "output_type": "execute_result"
    }
   ],
   "source": [
    "prep('Happy valentines day')"
   ]
  },
  {
   "cell_type": "code",
   "execution_count": 29,
   "metadata": {},
   "outputs": [
    {
     "data": {
      "text/plain": [
       "'21st Century Oncology LLC , agreed pay $ 19.75 million government resolve allegations violated False Claims Act billing federal health care programs laboratory tests medically necessary , Justice Department announced today . \\xa0  21st Century nationwide provider integrated cancer care services headquartered Fort Myers , Florida . \\xa0  “ Today settlement demonstrates unwavering commitment protect Medicare trust fund unscrupulous providers , ” said Principal Deputy Assistant Attorney General Benjamin C. Mizer , head Justice Department Civil Division . \\xa0  “ Providers waste taxpayer dollars billing unnecessary services face consequences . ” settlement announced today resolves allegations 21st Century submitted claims Medicare Tricare fluorescence situ hybridization , “ FISH , ” tests medically necessary . \\xa0  FISH tests laboratory tests performed urine detect genetic abnormalities associated bladder cancer . \\xa0  government alleged 21st Century submitted claims unnecessary FISH tests ordered urologists , Dr. Meir Daller , Dr. Steven Paletsky , Dr. David Spellberg Dr. Robert Scappa , practiced Fort Myers area . \\xa0  government alleged 21st Century encouraged physicians order unnecessary FISH tests offering bonuses based number tests referred 21st Century laboratory . \\xa0  Today settlement resolves civil liability 21st Century . \\xa0  “ Charging government clearly unnecessary medical services squanders taxpayer dollars , ” said U.S. Attorney A. Lee Bentley , III Middle District Florida . \\xa0  “ office continue pursue health care providers defraud United States , threatening viability government health care programs , Medicare . ” “ tests ordered increase profits , improve healthcare patients , ” said Special Agent Charge Shimon Richmond Department Health Human Services Office Inspector General ( HHS - OIG ) . “ kind unvarnished fraud attack Medicare unscrupulous providers OIG federal partners steps necessary stop . ” “ settlement demonstrates commitment Defense Criminal Investigative Service ( DCIS ) law enforcement partners protect integrity U.S. military health care program ( TRICARE ) fraudulent claims medical services , said Special Agent Charge John F. Khin DCIS Southeast Field Office . ” settlement resolves allegations originally brought lawsuit filed whistleblower qui tam provisions False Claims Act , allow private parties bring suit behalf government share recovery . \\xa0  whistleblower , 21st Century Oncology LLC medical assistant , receive $ 3.2 million share recovery case . investigation handled Civil Division Commercial Litigation Branch Fort Myers Division U.S. Attorney Office Middle District Florida assistance HHS - OIG , DCIS FBI . \\xa0  settlement illustrates government emphasis combating health care fraud marks achievement Health Care Fraud Prevention Enforcement Action Team ( HEAT ) initiative , announced 2009 Attorney General Secretary Health Human Services . \\xa0  partnership departments focused efforts reduce prevent Medicare Medicaid financial fraud enhanced cooperation . \\xa0  powerful tools effort False Claims Act . \\xa0  January 2009 , Justice Department recovered total $ 26.7 billion False Claims Act cases , $ 16.8 billion recovered cases involving fraud federal health care programs . \\xa0\\xa0  lawsuit captioned United States , State Florida , ex rel . Mariela Barnes v. Dr. David Spellberg , 21st Century Oncology Naples Urology Associates , Civil Action . 2:13 - cv-228 - FtM-38DNF ( M.D. Fla. ) . \\xa0  claims resolved settlement allegations , determination liability . \\xa0'"
      ]
     },
     "execution_count": 29,
     "metadata": {},
     "output_type": "execute_result"
    }
   ],
   "source": [
    "test.iloc[3]"
   ]
  },
  {
   "cell_type": "code",
   "execution_count": null,
   "metadata": {},
   "outputs": [],
   "source": []
  }
 ],
 "metadata": {
  "kernelspec": {
   "display_name": "Python 3",
   "language": "python",
   "name": "python3"
  },
  "language_info": {
   "codemirror_mode": {
    "name": "ipython",
    "version": 3
   },
   "file_extension": ".py",
   "mimetype": "text/x-python",
   "name": "python",
   "nbconvert_exporter": "python",
   "pygments_lexer": "ipython3",
   "version": "3.10.12"
  }
 },
 "nbformat": 4,
 "nbformat_minor": 2
}
