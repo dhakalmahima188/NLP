{
 "cells": [
  {
   "cell_type": "code",
   "execution_count": null,
   "metadata": {},
   "outputs": [],
   "source": [
    "#test error not that much change -- low variance\n",
    "# high train error hgh bias\n",
    "#overfit - > high variance\n",
    "#underfit - > high bias\n",
    "\n"
   ]
  }
 ],
 "metadata": {
  "language_info": {
   "name": "python"
  }
 },
 "nbformat": 4,
 "nbformat_minor": 2
}
