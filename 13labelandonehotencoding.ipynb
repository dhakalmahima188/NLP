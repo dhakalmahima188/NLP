{
 "cells": [
  {
   "cell_type": "code",
   "execution_count": 1,
   "metadata": {},
   "outputs": [
    {
     "data": {
      "text/plain": [
       "5"
      ]
     },
     "execution_count": 1,
     "metadata": {},
     "output_type": "execute_result"
    }
   ],
   "source": [
    "#Spam DEtection : Create Vocaaulary\n"
   ]
  },
  {
   "cell_type": "code",
   "execution_count": 9,
   "metadata": {},
   "outputs": [
    {
     "data": {
      "text/plain": [
       "{0: 'This',\n",
       " 1: 'is',\n",
       " 2: 'a',\n",
       " 3: 'sample',\n",
       " 4: 'text.',\n",
       " 5: 'We',\n",
       " 6: 'will',\n",
       " 7: 'use',\n",
       " 8: 'this',\n",
       " 9: 'text',\n",
       " 10: 'to',\n",
       " 11: 'create',\n",
       " 12: 'a',\n",
       " 13: 'vocabulary',\n",
       " 14: 'of',\n",
       " 15: 'words',\n",
       " 16: 'in',\n",
       " 17: 'this',\n",
       " 18: 'text.',\n",
       " 19: 'We',\n",
       " 20: 'will',\n",
       " 21: 'use',\n",
       " 22: 'this',\n",
       " 23: 'vocabulary',\n",
       " 24: 'to',\n",
       " 25: 'create',\n",
       " 26: 'a',\n",
       " 27: 'feature',\n",
       " 28: 'vector',\n",
       " 29: 'for',\n",
       " 30: 'each',\n",
       " 31: 'document.',\n",
       " 32: 'We',\n",
       " 33: 'will',\n",
       " 34: 'use',\n",
       " 35: 'this',\n",
       " 36: 'feature',\n",
       " 37: 'vector',\n",
       " 38: 'to',\n",
       " 39: 'classify',\n",
       " 40: 'the',\n",
       " 41: 'documents',\n",
       " 42: 'as',\n",
       " 43: 'spam',\n",
       " 44: 'or',\n",
       " 45: 'not',\n",
       " 46: 'spam.'}"
      ]
     },
     "execution_count": 9,
     "metadata": {},
     "output_type": "execute_result"
    }
   ],
   "source": [
    "text=\"This is a sample text. We will use this text to create a vocabulary of words in this text. We will use this vocabulary to create a feature vector for each document. We will use this feature vector to classify the documents as spam or not spam.\"\n",
    "arr=text.split()\n",
    "arr\n",
    "dict1={}\n",
    "for i in range(len(arr)):\n",
    "    if arr[i] in dict1:\n",
    "        pass\n",
    "    else:\n",
    "     dict1[i]=arr[i]\n",
    "   \n",
    "dict1"
   ]
  },
  {
   "cell_type": "code",
   "execution_count": null,
   "metadata": {},
   "outputs": [],
   "source": []
  }
 ],
 "metadata": {
  "kernelspec": {
   "display_name": "Python 3",
   "language": "python",
   "name": "python3"
  },
  "language_info": {
   "codemirror_mode": {
    "name": "ipython",
    "version": 3
   },
   "file_extension": ".py",
   "mimetype": "text/x-python",
   "name": "python",
   "nbconvert_exporter": "python",
   "pygments_lexer": "ipython3",
   "version": "3.10.12"
  }
 },
 "nbformat": 4,
 "nbformat_minor": 2
}
