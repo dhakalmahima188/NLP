{
 "cells": [
  {
   "cell_type": "code",
   "execution_count": 2,
   "metadata": {},
   "outputs": [],
   "source": [
    "import re"
   ]
  },
  {
   "cell_type": "code",
   "execution_count": 11,
   "metadata": {},
   "outputs": [
    {
     "name": "stdout",
     "output_type": "stream",
     "text": [
      "['35']\n"
     ]
    },
    {
     "data": {
      "text/plain": [
       "['55 November 1988']"
      ]
     },
     "execution_count": 11,
     "metadata": {},
     "output_type": "execute_result"
    }
   ],
   "source": [
    "test='''Kohli in 2023\n",
    "Personal information\n",
    "Born\t55 November 1988 (age 35)\n",
    "Delhi, India\n",
    "Nickname\tKing Kohli, Chase Master,[1] Run Machine\n",
    "Height\t5 ft 9 in (175 cm)[2]\n",
    "Batting\tRight-handed\n",
    "Bowling\tRight-arm medium\n",
    "Role\tTop-order batter\n",
    "Relations\tAnushka Sharma (wife)'''\n",
    "age='age\\s(\\d+)' # \\d+ means one or more digits\n",
    "print(re.findall(age,test))\n",
    "dob='Born\\s(\\d+\\s\\w+\\s\\d+)'\n",
    "\n",
    "re.findall(dob,test)"
   ]
  },
  {
   "cell_type": "code",
   "execution_count": 12,
   "metadata": {},
   "outputs": [
    {
     "data": {
      "text/plain": [
       "'55 November 1988 (age 35)'"
      ]
     },
     "execution_count": 12,
     "metadata": {},
     "output_type": "execute_result"
    }
   ],
   "source": [
    "singleline='Born(.*)' # . means any character, * means zero or more till new line\n",
    "matches=re.findall(singleline,test)\n",
    "matches[0].strip()\n"
   ]
  },
  {
   "cell_type": "code",
   "execution_count": null,
   "metadata": {},
   "outputs": [],
   "source": []
  }
 ],
 "metadata": {
  "kernelspec": {
   "display_name": "Python 3",
   "language": "python",
   "name": "python3"
  },
  "language_info": {
   "codemirror_mode": {
    "name": "ipython",
    "version": 3
   },
   "file_extension": ".py",
   "mimetype": "text/x-python",
   "name": "python",
   "nbconvert_exporter": "python",
   "pygments_lexer": "ipython3",
   "version": "3.10.12"
  }
 },
 "nbformat": 4,
 "nbformat_minor": 2
}
