{
 "cells": [
  {
   "cell_type": "markdown",
   "metadata": {},
   "source": [
    "Reducing word to its base word\n",
    "lemmatzation : linguuistic knowledge : more correct\n",
    "stemming : able, ing etc\n",
    "nltk supports both\n"
   ]
  },
  {
   "cell_type": "code",
   "execution_count": 1,
   "metadata": {},
   "outputs": [
    {
     "name": "stdout",
     "output_type": "stream",
     "text": [
      "Defaulting to user installation because normal site-packages is not writeable\n",
      "Collecting nltk\n",
      "  Downloading nltk-3.8.1-py3-none-any.whl (1.5 MB)\n",
      "\u001b[2K     \u001b[38;2;114;156;31m━━━━━━━━━━━━━━━━━━━━━━━━━━━━━━━━━━━━━━━━\u001b[0m \u001b[32m1.5/1.5 MB\u001b[0m \u001b[31m5.3 MB/s\u001b[0m eta \u001b[36m0:00:00\u001b[0mm eta \u001b[36m0:00:01\u001b[0m[36m0:00:01\u001b[0m\n",
      "\u001b[?25hRequirement already satisfied: regex>=2021.8.3 in /home/mahima/.local/lib/python3.10/site-packages (from nltk) (2023.12.25)\n",
      "Requirement already satisfied: click in /usr/lib/python3/dist-packages (from nltk) (8.0.3)\n",
      "Requirement already satisfied: tqdm in /home/mahima/.local/lib/python3.10/site-packages (from nltk) (4.66.1)\n",
      "Collecting joblib\n",
      "  Downloading joblib-1.3.2-py3-none-any.whl (302 kB)\n",
      "\u001b[2K     \u001b[38;2;114;156;31m━━━━━━━━━━━━━━━━━━━━━━━━━━━━━━━━━━━━━━━\u001b[0m \u001b[32m302.2/302.2 KB\u001b[0m \u001b[31m4.8 MB/s\u001b[0m eta \u001b[36m0:00:00\u001b[0m MB/s\u001b[0m eta \u001b[36m0:00:01\u001b[0m\n",
      "\u001b[?25hInstalling collected packages: joblib, nltk\n",
      "Successfully installed joblib-1.3.2 nltk-3.8.1\n"
     ]
    }
   ],
   "source": [
    "!pip3 install nltk"
   ]
  },
  {
   "cell_type": "code",
   "execution_count": 4,
   "metadata": {},
   "outputs": [
    {
     "name": "stdout",
     "output_type": "stream",
     "text": [
      "play  :  play\n",
      "playing  :  play\n",
      "played  :  play\n",
      "plays  :  play\n",
      "ate  :  ate\n"
     ]
    }
   ],
   "source": [
    "from nltk.stem import PorterStemmer\n",
    "stemmer = PorterStemmer()\n",
    "words = [\"play\", \"playing\", \"played\", \"plays\", 'ate']\n",
    "for w in words:\n",
    "    print(w, \" : \", stemmer.stem(w))"
   ]
  },
  {
   "cell_type": "code",
   "execution_count": 8,
   "metadata": {},
   "outputs": [
    {
     "name": "stdout",
     "output_type": "stream",
     "text": [
      "bro bro\n",
      "broo broo\n",
      "eating eat\n",
      "eats eat\n",
      "ate eat\n",
      "ability ability\n",
      "brah brah\n",
      "adjustable adjustable\n",
      "became become\n"
     ]
    }
   ],
   "source": [
    "import spacy\n",
    "nlp = spacy.load('en_core_web_sm')\n",
    "doc = nlp(\"bro broo eating eats ate ability brah adjustable became\")\n",
    "for token in doc:\n",
    "    print(token.text, token.lemma_)\n",
    "\n",
    "# lemma = hash : lemma_= actual word"
   ]
  },
  {
   "cell_type": "code",
   "execution_count": 7,
   "metadata": {},
   "outputs": [
    {
     "data": {
      "text/plain": [
       "['tok2vec', 'tagger', 'parser', 'attribute_ruler', 'lemmatizer', 'ner']"
      ]
     },
     "execution_count": 7,
     "metadata": {},
     "output_type": "execute_result"
    }
   ],
   "source": [
    "nlp.pipe_names"
   ]
  },
  {
   "cell_type": "code",
   "execution_count": 19,
   "metadata": {},
   "outputs": [
    {
     "name": "stdout",
     "output_type": "stream",
     "text": [
      "    SPACE space _SP\n",
      "bro brother VERB verb VB\n",
      "broo brother PROPN proper noun NNP\n",
      "eating eat VERB verb VBG\n",
      "! ! PUNCT punctuation .\n",
      "@ @ ADP adposition IN\n",
      "eats eat NOUN noun NNS\n",
      "ate eat VERB verb VBD\n",
      "ability ability NOUN noun NN\n",
      "brah brother NOUN noun NN\n",
      "adjustable adjustable ADJ adjective JJ\n",
      "became become VERB verb VBD\n"
     ]
    }
   ],
   "source": [
    "\n",
    "ar = nlp.get_pipe(\"attribute_ruler\")\n",
    "ar.add([[\n",
    "    {\"TEXT\": \"broo\"}],\n",
    "    [{\"TEXT\": \"bro\"}],\n",
    "    [{\"TEXT\": \"brah\"}]\n",
    "], {\"LEMMA\": \"brother\"})\n",
    "doc = nlp(\" bro broo eating ! @ eats ate ability brah adjustable became\")\n",
    "for token in doc:\n",
    "    print(token.text, token.lemma_,token.pos_,spacy.explain(token.pos_),token.tag_)"
   ]
  },
  {
   "cell_type": "code",
   "execution_count": 22,
   "metadata": {},
   "outputs": [
    {
     "name": "stdout",
     "output_type": "stream",
     "text": [
      "From from ADP IN\n",
      "Wikipedia Wikipedia PROPN NNP\n",
      "the the DET DT\n",
      "free free ADJ JJ\n",
      "encyclopedia encyclopedia NOUN NN\n",
      "en.wikipedia.org en.wikipedia.org NUM CD\n",
      "redirects redirect NOUN NNS\n",
      "here here ADV RB\n",
      "For for ADP IN\n",
      "the the DET DT\n",
      "main main ADJ JJ\n",
      "page page NOUN NN\n",
      "see see VERB VB\n",
      "Main Main PROPN NNP\n",
      "Page Page PROPN NNP\n",
      "English English PROPN NNP\n",
      "Wikipedia Wikipedia PROPN NNP\n",
      "85 85 NUM CD\n",
      "% % NOUN NN\n",
      "Screenshot Screenshot PROPN NNP\n",
      "Type Type PROPN NNP\n",
      "of of ADP IN\n",
      "site site NOUN NN\n",
      "Internet internet NOUN NN\n",
      "encyclopedia encyclopedia NOUN NN\n",
      "Owner Owner PROPN NNP\n",
      "Wikimedia Wikimedia PROPN NNP\n",
      "Foundation Foundation PROPN NNP\n",
      "URL URL PROPN NNP\n",
      "en.wikipedia.org en.wikipedia.org PROPN NNPS\n",
      "Commercial Commercial PROPN NNP\n",
      "No no DET DT\n",
      "Registration Registration PROPN NNP\n",
      "Optional Optional PROPN NNP\n",
      "required require VERB VBN\n",
      "for for ADP IN\n",
      "certain certain ADJ JJ\n",
      "tasks task NOUN NNS\n",
      "Users user NOUN NNS\n",
      "46,912,807 46,912,807 NUM CD\n",
      "users user NOUN NNS\n",
      "868 868 NUM CD\n",
      "administrators administrator NOUN NNS\n",
      "as as ADP IN\n",
      "of of ADP IN\n",
      "8 8 NUM CD\n",
      "February February PROPN NNP\n",
      "2024 2024 NUM CD\n",
      "Launched launch VERB VBN\n",
      "15 15 NUM CD\n",
      "January January PROPN NNP\n",
      "2001 2001 NUM CD\n",
      "23 23 NUM CD\n",
      "years year NOUN NNS\n",
      "ago ago ADV RB\n",
      "Content Content PROPN NNP\n",
      "license license NOUN NN\n",
      "Creative Creative PROPN NNP\n",
      "Commons Commons PROPN NNP\n",
      "Attribution/ attribution/ NOUN NN\n",
      "Share Share PROPN NNP\n",
      "Alike Alike PROPN NNP\n",
      "4.0 4.0 NUM CD\n",
      "most most ADJ JJS\n",
      "t t NOUN NN\n",
      "tf tf PROPN NNP\n",
      "English English PROPN NNP\n",
      "aiming aim VERB VBG\n",
      "to to PART TO\n",
      "stay stay VERB VB\n",
      "consistent consistent ADJ JJ\n",
      "within within ADP IN\n",
      "articles article NOUN NNS\n"
     ]
    }
   ],
   "source": [
    "text = \"\"\" From Wikipedia, the free encyclopedia\n",
    "en.wikipedia.org redirects here. \n",
    "For the main page, see Main Page. \n",
    "English Wikipedia 85% Screenshot \n",
    "Type of site\tInternet encyclopedia\n",
    "Owner\tWikimedia Foundation URL\t\n",
    "en.wikipedia.org Commercial\tNo Registration\tOptional;\n",
    "required for certain tasks Users\t\n",
    "46,912,807 users, 868 administrators as of 8\n",
    "February 2024 Launched\t15 January 2001; 23 years ago Content\n",
    "license\tCreative Commons Attribution/ Share-Alike 4.0 (most t\n",
    "tf English, aiming to stay consistent within articles.\"\"\"\n",
    "filtered_token = []\n",
    "doc = nlp(text)\n",
    "for token in doc:\n",
    "    if token.pos_ not in ['PUNCT', 'SPACE']:\n",
    "        filtered_token.append(token)\n",
    "        print(token.text, token.lemma_, token.pos_, token.tag_)"
   ]
  },
  {
   "cell_type": "code",
   "execution_count": 23,
   "metadata": {},
   "outputs": [
    {
     "data": {
      "text/plain": [
       "[From,\n",
       " Wikipedia,\n",
       " the,\n",
       " free,\n",
       " encyclopedia,\n",
       " en.wikipedia.org,\n",
       " redirects,\n",
       " here,\n",
       " For,\n",
       " the,\n",
       " main,\n",
       " page,\n",
       " see,\n",
       " Main,\n",
       " Page,\n",
       " English,\n",
       " Wikipedia,\n",
       " 85,\n",
       " %,\n",
       " Screenshot,\n",
       " Type,\n",
       " of,\n",
       " site,\n",
       " Internet,\n",
       " encyclopedia,\n",
       " Owner,\n",
       " Wikimedia,\n",
       " Foundation,\n",
       " URL,\n",
       " en.wikipedia.org,\n",
       " Commercial,\n",
       " No,\n",
       " Registration,\n",
       " Optional,\n",
       " required,\n",
       " for,\n",
       " certain,\n",
       " tasks,\n",
       " Users,\n",
       " 46,912,807,\n",
       " users,\n",
       " 868,\n",
       " administrators,\n",
       " as,\n",
       " of,\n",
       " 8,\n",
       " February,\n",
       " 2024,\n",
       " Launched,\n",
       " 15,\n",
       " January,\n",
       " 2001,\n",
       " 23,\n",
       " years,\n",
       " ago,\n",
       " Content,\n",
       " license,\n",
       " Creative,\n",
       " Commons,\n",
       " Attribution/,\n",
       " Share,\n",
       " Alike,\n",
       " 4.0,\n",
       " most,\n",
       " t,\n",
       " tf,\n",
       " English,\n",
       " aiming,\n",
       " to,\n",
       " stay,\n",
       " consistent,\n",
       " within,\n",
       " articles]"
      ]
     },
     "execution_count": 23,
     "metadata": {},
     "output_type": "execute_result"
    }
   ],
   "source": [
    "filtered_token"
   ]
  },
  {
   "cell_type": "code",
   "execution_count": 28,
   "metadata": {},
   "outputs": [
    {
     "name": "stdout",
     "output_type": "stream",
     "text": [
      "18 SPACE\n",
      "7 ADP\n",
      "24 PROPN\n",
      "11 PUNCT\n",
      "3 DET\n",
      "5 ADJ\n",
      "16 NOUN\n",
      "10 NUM\n",
      "2 ADV\n",
      "5 VERB\n",
      "1 PART\n"
     ]
    }
   ],
   "source": [
    "countt = doc.count_by(spacy.attrs.POS)\n",
    "countt\n",
    "for k,v in countt.items():\n",
    "    print( v, doc.vocab[k].text) \n"
   ]
  },
  {
   "cell_type": "code",
   "execution_count": 36,
   "metadata": {},
   "outputs": [
    {
     "name": "stdout",
     "output_type": "stream",
     "text": [
      "96\n",
      "[8.3, 8.1, 1982, 6.2, 6, 0.3, 0.2, 0.6, 0.4, 0.1, 0.3, 2.6, 5.5, 2021, 1984, one, two, two, 2]\n"
     ]
    }
   ],
   "source": [
    "story =\"\"\"Inflation rose again in April, continuing a climb that has pushed consumers to the brink and is threatening the economic expansion, the Bureau of Labor Statistics reported Wednesday.\n",
    "\n",
    "The consumer price index, a broad-based measure of prices for goods and services, increased 8.3% from a year ago, higher than the Dow Jones estimate for an 8.1% gain. That represented a slight ease from March’s peak but was still close to the highest level since the summer of 1982.\n",
    "\n",
    "Removing volatile food and energy prices, so-called core CPI still rose 6.2%, against expectations for a 6% gain, clouding hopes that inflation had peaked in March.\n",
    "\n",
    "The month-over-month gains also were higher than expectations — 0.3% on headline CPI versus the 0.2% estimate and a 0.6% increase for core, against the outlook for a 0.4% gain.\n",
    "\n",
    "The price gains also meant that workers continued to lose ground. Real wages adjusted for inflation decreased 0.1% on the month despite a nominal increase of 0.3% in average hourly earnings. Over the past year, real earnings have dropped 2.6% even though average hourly earnings are up 5.5%.\n",
    "\n",
    "Inflation has been the single biggest threat to a recovery that began early in the Covid pandemic and saw the economy in 2021 stage its biggest single-year growth level since 1984. Rising prices at the pump and in grocery stores have been one problem, but inflation has spread beyond those two areas into housing, auto sales and a host of other areas.\n",
    "\n",
    "Federal Reserve officials have responded to the problem with two interest rate hikes so far this year and pledges of more until inflation comes down to the central bank’s 2% goal. However, Wednesday’s data shows that the Fed has a big job ahead.\n",
    "\n",
    "Credits: cnbc.com \"\"\"\n",
    "\n",
    "doc=nlp(story)\n",
    "noun=[]\n",
    "num=[]\n",
    "for token in doc :\n",
    "    if token.pos_== \"NOUN\":\n",
    "        noun.append(token)\n",
    "    if token.pos_== \"NUM\":\n",
    "        num.append(token)\n",
    "        \n",
    "        \n",
    "        \n",
    "print(len(noun))\n",
    "print(num)"
   ]
  },
  {
   "cell_type": "code",
   "execution_count": 37,
   "metadata": {},
   "outputs": [
    {
     "name": "stdout",
     "output_type": "stream",
     "text": [
      "96 NOUN\n",
      "27 VERB\n",
      "15 ADV\n",
      "39 ADP\n",
      "16 PROPN\n",
      "32 PUNCT\n",
      "34 DET\n",
      "4 PRON\n",
      "13 AUX\n",
      "10 CCONJ\n",
      "23 ADJ\n",
      "7 SPACE\n",
      "19 NUM\n",
      "4 PART\n",
      "8 SCONJ\n",
      "1 X\n"
     ]
    }
   ],
   "source": [
    "countt = doc.count_by(spacy.attrs.POS)\n",
    "countt\n",
    "for k,v in countt.items():\n",
    "    print( v, doc.vocab[k].text)"
   ]
  },
  {
   "cell_type": "code",
   "execution_count": null,
   "metadata": {},
   "outputs": [],
   "source": []
  }
 ],
 "metadata": {
  "kernelspec": {
   "display_name": "Python 3",
   "language": "python",
   "name": "python3"
  },
  "language_info": {
   "codemirror_mode": {
    "name": "ipython",
    "version": 3
   },
   "file_extension": ".py",
   "mimetype": "text/x-python",
   "name": "python",
   "nbconvert_exporter": "python",
   "pygments_lexer": "ipython3",
   "version": "3.10.12"
  }
 },
 "nbformat": 4,
 "nbformat_minor": 2
}
