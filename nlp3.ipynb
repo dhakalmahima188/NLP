{
 "cells": [
  {
   "cell_type": "code",
   "execution_count": 1,
   "id": "e7b9be27",
   "metadata": {},
   "outputs": [
    {
     "name": "stdout",
     "output_type": "stream",
     "text": [
      "Hello regx\n"
     ]
    }
   ],
   "source": [
    "print(\"Hello regx\")"
   ]
  },
  {
   "cell_type": "code",
   "execution_count": 3,
   "id": "8930bec1",
   "metadata": {},
   "outputs": [],
   "source": [
    "import re\n"
   ]
  },
  {
   "cell_type": "code",
   "execution_count": 4,
   "id": "b7f0c03f-6f8c-45fa-a93d-c25eabf63bd9",
   "metadata": {},
   "outputs": [],
   "source": [
    "chat1=\"hey my phone no is 9742357371\"\n",
    "chat2=\"Take your order#1(234)\""
   ]
  },
  {
   "cell_type": "code",
   "execution_count": 5,
   "id": "00f562cd-e534-45a9-88ba-cae3309d1f80",
   "metadata": {},
   "outputs": [
    {
     "data": {
      "text/plain": [
       "['9742357371']"
      ]
     },
     "execution_count": 5,
     "metadata": {},
     "output_type": "execute_result"
    }
   ],
   "source": [
    "pattern='\\d{10}'\n",
    "re.findall(pattern,chat1)"
   ]
  },
  {
   "cell_type": "code",
   "execution_count": 17,
   "id": "51102927-d855-4416-bfea-619dca98cd15",
   "metadata": {},
   "outputs": [
    {
     "data": {
      "text/plain": [
       "[('12', 'abc', '1234')]"
      ]
     },
     "execution_count": 17,
     "metadata": {},
     "output_type": "execute_result"
    }
   ],
   "source": [
    "chat3='(12 abc 1234 harey'\n",
    "pattern2='(\\d{1,2})\\s(\\w{3})\\s(\\d{4})'\n",
    "re.findall(pattern2,chat3)"
   ]
  },
  {
   "cell_type": "markdown",
   "metadata": {},
   "source": [
    "(\\d{1,2}): This part captures one or two digits (\\d) and encloses them in parentheses for grouping. The curly braces {1,2} specify that there should be at least 1 and at most 2 digits.\n",
    "\n",
    "\\s: This matches a whitespace character (space).\n",
    "\n",
    "(\\w{3}): This captures exactly three word characters (\\w). Word characters include alphanumeric characters and underscores.\n",
    "\n",
    "\\s: Another whitespace character (space).\n",
    "\n",
    "(\\d{4}): This captures exactly four digits."
   ]
  },
  {
   "cell_type": "code",
   "execution_count": null,
   "metadata": {},
   "outputs": [],
   "source": []
  },
  {
   "cell_type": "code",
   "execution_count": 9,
   "metadata": {},
   "outputs": [
    {
     "data": {
      "text/plain": [
       "['(12)']"
      ]
     },
     "execution_count": 9,
     "metadata": {},
     "output_type": "execute_result"
    }
   ],
   "source": [
    "pattern='\\(\\d{2}\\)'\n",
    "re.findall(pattern,chat3)"
   ]
  },
  {
   "cell_type": "code",
   "execution_count": 19,
   "metadata": {},
   "outputs": [
    {
     "name": "stdout",
     "output_type": "stream",
     "text": [
      "The string '25 Jan 2023' matches the pattern.\n",
      "Captured groups:\n",
      "Day: 25\n",
      "Month: Jan\n",
      "Year: 2023\n"
     ]
    }
   ],
   "source": [
    "\n",
    "example_string = '25 Jan 2023'\n",
    "pattern2 = '(\\d{1,2})\\s(\\w{3})\\s(\\d{4})'\n",
    "match = re.match(pattern2, example_string)\n",
    "\n",
    "if match:\n",
    "    print(f\"The string '{example_string}' matches the pattern.\")\n",
    "    print(\"Captured groups:\")\n",
    "    print(f\"Day: {match.group(1)}\")\n",
    "    print(f\"Month: {match.group(2)}\")\n",
    "    print(f\"Year: {match.group(3)}\")\n",
    "else:\n",
    "    print(f\"The string '{example_string}' does not match the pattern.\")\n"
   ]
  },
  {
   "cell_type": "code",
   "execution_count": 23,
   "metadata": {},
   "outputs": [
    {
     "data": {
      "text/plain": [
       "['(12) ', ' 12']"
      ]
     },
     "execution_count": 23,
     "metadata": {},
     "output_type": "execute_result"
    }
   ],
   "source": [
    "p='\\(\\d{2}\\) | \\d{2}' # oof care ending escape char\n",
    "chat4='(12) 12 12'\n",
    "re.findall(p,chat4)"
   ]
  },
  {
   "cell_type": "code",
   "execution_count": 24,
   "metadata": {},
   "outputs": [
    {
     "data": {
      "text/plain": [
       "['(12)-12']"
      ]
     },
     "execution_count": 24,
     "metadata": {},
     "output_type": "execute_result"
    }
   ],
   "source": [
    "p='\\(\\d{2}\\)-\\d{2}' # oof care ending escape char\n",
    "chat4='(12)-12 12'\n",
    "re.findall(p,chat4)"
   ]
  },
  {
   "cell_type": "code",
   "execution_count": 26,
   "metadata": {},
   "outputs": [
    {
     "data": {
      "text/plain": [
       "['dhakal18@gmail.com']"
      ]
     },
     "execution_count": 26,
     "metadata": {},
     "output_type": "execute_result"
    }
   ],
   "source": [
    "email='dhakal18@gmail.com yes dhakal.com'\n",
    "p='[a-zA-Z0-9]+@[a-zA-Z0-9]+.[a-zA-Z0-9]+'\n",
    "re.findall(p,email)"
   ]
  },
  {
   "cell_type": "code",
   "execution_count": 31,
   "metadata": {},
   "outputs": [
    {
     "data": {
      "text/plain": [
       "['1', '2', '1234']"
      ]
     },
     "execution_count": 31,
     "metadata": {},
     "output_type": "execute_result"
    }
   ],
   "source": [
    "order='order no 1 oeder #1234 order no 2 order #1234'\n",
    "pat='order[^\\d]*(\\d*)' #extract only number-- use bracket\n",
    "re.findall(pat,order)"
   ]
  },
  {
   "cell_type": "code",
   "execution_count": null,
   "metadata": {},
   "outputs": [],
   "source": []
  }
 ],
 "metadata": {
  "kernelspec": {
   "display_name": "Python 3 (ipykernel)",
   "language": "python",
   "name": "python3"
  },
  "language_info": {
   "codemirror_mode": {
    "name": "ipython",
    "version": 3
   },
   "file_extension": ".py",
   "mimetype": "text/x-python",
   "name": "python",
   "nbconvert_exporter": "python",
   "pygments_lexer": "ipython3",
   "version": "3.10.12"
  }
 },
 "nbformat": 4,
 "nbformat_minor": 5
}
