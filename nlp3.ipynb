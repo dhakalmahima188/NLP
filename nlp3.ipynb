{
 "cells": [
  {
   "cell_type": "code",
   "execution_count": 1,
   "id": "e7b9be27",
   "metadata": {},
   "outputs": [
    {
     "name": "stdout",
     "output_type": "stream",
     "text": [
      "Hello regx\n"
     ]
    }
   ],
   "source": [
    "print(\"Hello regx\")"
   ]
  },
  {
   "cell_type": "code",
   "execution_count": 3,
   "id": "8930bec1",
   "metadata": {},
   "outputs": [],
   "source": [
    "import re\n"
   ]
  },
  {
   "cell_type": "code",
   "execution_count": 4,
   "id": "b7f0c03f-6f8c-45fa-a93d-c25eabf63bd9",
   "metadata": {},
   "outputs": [],
   "source": [
    "chat1=\"hey my phone no is 9742357371\"\n",
    "chat2=\"Take your order#1234\""
   ]
  },
  {
   "cell_type": "code",
   "execution_count": 5,
   "id": "00f562cd-e534-45a9-88ba-cae3309d1f80",
   "metadata": {},
   "outputs": [
    {
     "data": {
      "text/plain": [
       "['9742357371']"
      ]
     },
     "execution_count": 5,
     "metadata": {},
     "output_type": "execute_result"
    }
   ],
   "source": [
    "pattern='\\d{10}'\n",
    "re.findall(pattern,chat1)"
   ]
  },
  {
   "cell_type": "code",
   "execution_count": null,
   "id": "51102927-d855-4416-bfea-619dca98cd15",
   "metadata": {},
   "outputs": [],
   "source": []
  }
 ],
 "metadata": {
  "kernelspec": {
   "display_name": "Python 3 (ipykernel)",
   "language": "python",
   "name": "python3"
  },
  "language_info": {
   "codemirror_mode": {
    "name": "ipython",
    "version": 3
   },
   "file_extension": ".py",
   "mimetype": "text/x-python",
   "name": "python",
   "nbconvert_exporter": "python",
   "pygments_lexer": "ipython3",
   "version": "3.10.12"
  }
 },
 "nbformat": 4,
 "nbformat_minor": 5
}
