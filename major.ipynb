{
 "cells": [
  {
   "cell_type": "code",
   "execution_count": 34,
   "metadata": {},
   "outputs": [
    {
     "data": {
      "text/html": [
       "<div>\n",
       "<style scoped>\n",
       "    .dataframe tbody tr th:only-of-type {\n",
       "        vertical-align: middle;\n",
       "    }\n",
       "\n",
       "    .dataframe tbody tr th {\n",
       "        vertical-align: top;\n",
       "    }\n",
       "\n",
       "    .dataframe thead th {\n",
       "        text-align: right;\n",
       "    }\n",
       "</style>\n",
       "<table border=\"1\" class=\"dataframe\">\n",
       "  <thead>\n",
       "    <tr style=\"text-align: right;\">\n",
       "      <th></th>\n",
       "      <th>category</th>\n",
       "      <th>complain</th>\n",
       "    </tr>\n",
       "  </thead>\n",
       "  <tbody>\n",
       "    <tr>\n",
       "      <th>0</th>\n",
       "      <td>अर्थ सबन्धी</td>\n",
       "      <td>मीनभवन र तिनकुनेको बीचमा रहेको एलजी शोरुम माथि...</td>\n",
       "    </tr>\n",
       "    <tr>\n",
       "      <th>1</th>\n",
       "      <td>अर्थ सबन्धी</td>\n",
       "      <td>- भ्याट बिल जारी गरिएको छैन</td>\n",
       "    </tr>\n",
       "    <tr>\n",
       "      <th>2</th>\n",
       "      <td>अर्थ सबन्धी</td>\n",
       "      <td>. जानकारी - अनुरोध\\nकुनै पनि मानिसको जागिर अवध...</td>\n",
       "    </tr>\n",
       "    <tr>\n",
       "      <th>3</th>\n",
       "      <td>अर्थ सबन्धी</td>\n",
       "      <td>एटीएम कार्ड हराएको लगभग २ वर्ष जति भइसकेको छ न...</td>\n",
       "    </tr>\n",
       "    <tr>\n",
       "      <th>4</th>\n",
       "      <td>अर्थ सबन्धी</td>\n",
       "      <td>वास्तवमा, यो उल्लिखित समस्या स्टक एक्सचेन्जसँग...</td>\n",
       "    </tr>\n",
       "  </tbody>\n",
       "</table>\n",
       "</div>"
      ],
      "text/plain": [
       "      category                                           complain\n",
       "0  अर्थ सबन्धी  मीनभवन र तिनकुनेको बीचमा रहेको एलजी शोरुम माथि...\n",
       "1  अर्थ सबन्धी                        - भ्याट बिल जारी गरिएको छैन\n",
       "2  अर्थ सबन्धी  . जानकारी - अनुरोध\\nकुनै पनि मानिसको जागिर अवध...\n",
       "3  अर्थ सबन्धी  एटीएम कार्ड हराएको लगभग २ वर्ष जति भइसकेको छ न...\n",
       "4  अर्थ सबन्धी  वास्तवमा, यो उल्लिखित समस्या स्टक एक्सचेन्जसँग..."
      ]
     },
     "execution_count": 34,
     "metadata": {},
     "output_type": "execute_result"
    }
   ],
   "source": [
    "import pandas as pd\n",
    "import numpy as np\n",
    "df=pd.read_csv('./data/complain.csv')\n",
    "df.head()"
   ]
  },
  {
   "cell_type": "code",
   "execution_count": 35,
   "metadata": {},
   "outputs": [
    {
     "data": {
      "text/plain": [
       "0                  अर्थ सबन्धी\n",
       "1                  अर्थ सबन्धी\n",
       "2                  अर्थ सबन्धी\n",
       "3                  अर्थ सबन्धी\n",
       "4                  अर्थ सबन्धी\n",
       "                 ...          \n",
       "14532    स्वास्थ्यसँग सम्बन्धी\n",
       "14533    स्वास्थ्यसँग सम्बन्धी\n",
       "14534    स्वास्थ्यसँग सम्बन्धी\n",
       "14535    स्वास्थ्यसँग सम्बन्धी\n",
       "14536    स्वास्थ्यसँग सम्बन्धी\n",
       "Name: category, Length: 14537, dtype: object"
      ]
     },
     "execution_count": 35,
     "metadata": {},
     "output_type": "execute_result"
    }
   ],
   "source": [
    "df['category']"
   ]
  },
  {
   "cell_type": "code",
   "execution_count": 36,
   "metadata": {},
   "outputs": [
    {
     "data": {
      "text/plain": [
       "category\n",
       "वेबसाइट तथा अभिलेख व्यवस्थापन सम्बन्धी      4334\n",
       "पार्किङ्ग तथा मेट्रो पुलिस                  1702\n",
       "सोधपुछ, सुझाव, प्रशंसा सम्बन्धी             1517\n",
       "कर्मचारी सम्वन्धी                           1342\n",
       "खानेपानी                                     951\n",
       "अर्थ सबन्धी                                  860\n",
       "शान्ति सुरक्षा                               832\n",
       "स्वास्थ्यसँग सम्बन्धी                        695\n",
       "सूचना तथा संचार                              641\n",
       "फोहोरमैला व्यवस्थापन                         630\n",
       "निर्माण कार्य सम्बन्धी                       605\n",
       "प्राकृतिक श्रोत/साधन सम्बन्धी                200\n",
       "लागु पदार्थ सम्बन्धी                         157\n",
       "अर्थिक अनियमितता तथा भ्रष्टाचार सम्बन्धी      71\n",
       "Name: count, dtype: int64"
      ]
     },
     "execution_count": 36,
     "metadata": {},
     "output_type": "execute_result"
    }
   ],
   "source": [
    "df['category'].value_counts()\n",
    "# len(df['category'].value_counts())"
   ]
  },
  {
   "cell_type": "code",
   "execution_count": 43,
   "metadata": {},
   "outputs": [
    {
     "name": "stdout",
     "output_type": "stream",
     "text": [
      "वेबसाइट तथा अभिलेख व्यवस्थापन सम्बन्धी \n",
      "पार्किङ्ग तथा मेट्रो पुलिस\n",
      "सोधपुछ, सुझाव, प्रशंसा सम्बन्धी\n",
      "कर्मचारी सम्वन्धी\n",
      "खानेपानी\n",
      "अर्थ सबन्धी\n",
      "शान्ति सुरक्षा\n",
      "स्वास्थ्यसँग सम्बन्धी\n",
      "सूचना तथा संचार\n",
      "फोहोरमैला व्यवस्थापन\n",
      "निर्माण कार्य सम्बन्धी\n",
      "प्राकृतिक श्रोत/साधन सम्बन्धी\n",
      "लागु पदार्थ सम्बन्धी\n",
      "अर्थिक अनियमितता तथा भ्रष्टाचार सम्बन्धी\n"
     ]
    },
    {
     "data": {
      "text/plain": [
       "label_num\n",
       "0     4334\n",
       "1     1702\n",
       "2     1517\n",
       "3     1342\n",
       "4      951\n",
       "5      860\n",
       "6      832\n",
       "7      695\n",
       "8      641\n",
       "9      630\n",
       "10     605\n",
       "11     200\n",
       "12     157\n",
       "13      71\n",
       "Name: count, dtype: int64"
      ]
     },
     "execution_count": 43,
     "metadata": {},
     "output_type": "execute_result"
    }
   ],
   "source": [
    "label=dict()\n",
    "k=0\n",
    "for i in df['category'].value_counts().index:\n",
    "   print(i)\n",
    "   label[i]=k\n",
    "   k+=1\n",
    "label\n",
    "df['label_num']=df['category'].map(label)\n",
    "df['label_num'].value_counts()"
   ]
  },
  {
   "cell_type": "code",
   "execution_count": 44,
   "metadata": {},
   "outputs": [
    {
     "data": {
      "text/plain": [
       "<Axes: xlabel='label_num'>"
      ]
     },
     "execution_count": 44,
     "metadata": {},
     "output_type": "execute_result"
    },
    {
     "data": {
      "image/png": "[encoded data removed]",
      "text/plain": [
       "<Figure size 640x480 with 1 Axes>"
      ]
     },
     "metadata": {},
     "output_type": "display_data"
    }
   ],
   "source": [
    "df['category'].value_counts().plot(kind='bar')\n",
    "df['label_num'].value_counts().plot(kind='bar')"
   ]
  },
  {
   "cell_type": "code",
   "execution_count": 45,
   "metadata": {},
   "outputs": [
    {
     "data": {
      "text/html": [
       "<div>\n",
       "<style scoped>\n",
       "    .dataframe tbody tr th:only-of-type {\n",
       "        vertical-align: middle;\n",
       "    }\n",
       "\n",
       "    .dataframe tbody tr th {\n",
       "        vertical-align: top;\n",
       "    }\n",
       "\n",
       "    .dataframe thead th {\n",
       "        text-align: right;\n",
       "    }\n",
       "</style>\n",
       "<table border=\"1\" class=\"dataframe\">\n",
       "  <thead>\n",
       "    <tr style=\"text-align: right;\">\n",
       "      <th></th>\n",
       "      <th>category</th>\n",
       "      <th>complain</th>\n",
       "      <th>label_num</th>\n",
       "    </tr>\n",
       "  </thead>\n",
       "  <tbody>\n",
       "    <tr>\n",
       "      <th>11967</th>\n",
       "      <td>सूचना तथा संचार</td>\n",
       "      <td>त्रिभुवन अन्तर्राष्ट्रिय बिमान्स्थलको ह्यङर तथ...</td>\n",
       "      <td>8</td>\n",
       "    </tr>\n",
       "    <tr>\n",
       "      <th>6410</th>\n",
       "      <td>लागु पदार्थ सम्बन्धी</td>\n",
       "      <td>ड्रगको खुलेआम फेसबुकमा बिज्ञापन गरेको भन्ने व्...</td>\n",
       "      <td>12</td>\n",
       "    </tr>\n",
       "    <tr>\n",
       "      <th>7935</th>\n",
       "      <td>वेबसाइट तथा अभिलेख व्यवस्थापन सम्बन्धी</td>\n",
       "      <td>सबै विवरण सही भर्दा तपाईं को विवरण सही छैन भने...</td>\n",
       "      <td>0</td>\n",
       "    </tr>\n",
       "    <tr>\n",
       "      <th>8290</th>\n",
       "      <td>वेबसाइट तथा अभिलेख व्यवस्थापन सम्बन्धी</td>\n",
       "      <td>ना. ल. नम्बर नागरिक apps मा रेकर्ड नभएको भन्छ ...</td>\n",
       "      <td>0</td>\n",
       "    </tr>\n",
       "    <tr>\n",
       "      <th>8887</th>\n",
       "      <td>वेबसाइट तथा अभिलेख व्यवस्थापन सम्बन्धी</td>\n",
       "      <td>मेरो त्रुटिपूर्ण नागरिकता देखाएको र अहिले प्रत...</td>\n",
       "      <td>0</td>\n",
       "    </tr>\n",
       "    <tr>\n",
       "      <th>...</th>\n",
       "      <td>...</td>\n",
       "      <td>...</td>\n",
       "      <td>...</td>\n",
       "    </tr>\n",
       "    <tr>\n",
       "      <th>7271</th>\n",
       "      <td>वेबसाइट तथा अभिलेख व्यवस्थापन सम्बन्धी</td>\n",
       "      <td>मतदाता परिचयपत्र नम्बर 22135929 भेटिएन</td>\n",
       "      <td>0</td>\n",
       "    </tr>\n",
       "    <tr>\n",
       "      <th>10534</th>\n",
       "      <td>वेबसाइट तथा अभिलेख व्यवस्थापन सम्बन्धी</td>\n",
       "      <td>नागरिक एप सहि तरिकाले काम गर्दैन</td>\n",
       "      <td>0</td>\n",
       "    </tr>\n",
       "    <tr>\n",
       "      <th>6752</th>\n",
       "      <td>वेबसाइट तथा अभिलेख व्यवस्थापन सम्बन्धी</td>\n",
       "      <td>दाेलखा जिल्ला प्रशासन बाट जारी गरिएको नागरिकता...</td>\n",
       "      <td>0</td>\n",
       "    </tr>\n",
       "    <tr>\n",
       "      <th>11200</th>\n",
       "      <td>शान्ति सुरक्षा</td>\n",
       "      <td>जलेश्वर नगरपालिका वडा नं ९ (परिकौलीमा) तीन दिन...</td>\n",
       "      <td>6</td>\n",
       "    </tr>\n",
       "    <tr>\n",
       "      <th>2286</th>\n",
       "      <td>खानेपानी</td>\n",
       "      <td>मिटर परिवर्तनमा ढिलाइ भएको भए पनि मिटर परिवर्त...</td>\n",
       "      <td>4</td>\n",
       "    </tr>\n",
       "  </tbody>\n",
       "</table>\n",
       "<p>14537 rows × 3 columns</p>\n",
       "</div>"
      ],
      "text/plain": [
       "                                      category  \\\n",
       "11967                          सूचना तथा संचार   \n",
       "6410                      लागु पदार्थ सम्बन्धी   \n",
       "7935   वेबसाइट तथा अभिलेख व्यवस्थापन सम्बन्धी    \n",
       "8290   वेबसाइट तथा अभिलेख व्यवस्थापन सम्बन्धी    \n",
       "8887   वेबसाइट तथा अभिलेख व्यवस्थापन सम्बन्धी    \n",
       "...                                        ...   \n",
       "7271   वेबसाइट तथा अभिलेख व्यवस्थापन सम्बन्धी    \n",
       "10534  वेबसाइट तथा अभिलेख व्यवस्थापन सम्बन्धी    \n",
       "6752   वेबसाइट तथा अभिलेख व्यवस्थापन सम्बन्धी    \n",
       "11200                           शान्ति सुरक्षा   \n",
       "2286                                  खानेपानी   \n",
       "\n",
       "                                                complain  label_num  \n",
       "11967  त्रिभुवन अन्तर्राष्ट्रिय बिमान्स्थलको ह्यङर तथ...          8  \n",
       "6410   ड्रगको खुलेआम फेसबुकमा बिज्ञापन गरेको भन्ने व्...         12  \n",
       "7935   सबै विवरण सही भर्दा तपाईं को विवरण सही छैन भने...          0  \n",
       "8290   ना. ल. नम्बर नागरिक apps मा रेकर्ड नभएको भन्छ ...          0  \n",
       "8887   मेरो त्रुटिपूर्ण नागरिकता देखाएको र अहिले प्रत...          0  \n",
       "...                                                  ...        ...  \n",
       "7271              मतदाता परिचयपत्र नम्बर 22135929 भेटिएन          0  \n",
       "10534                   नागरिक एप सहि तरिकाले काम गर्दैन          0  \n",
       "6752   दाेलखा जिल्ला प्रशासन बाट जारी गरिएको नागरिकता...          0  \n",
       "11200  जलेश्वर नगरपालिका वडा नं ९ (परिकौलीमा) तीन दिन...          6  \n",
       "2286   मिटर परिवर्तनमा ढिलाइ भएको भए पनि मिटर परिवर्त...          4  \n",
       "\n",
       "[14537 rows x 3 columns]"
      ]
     },
     "execution_count": 45,
     "metadata": {},
     "output_type": "execute_result"
    }
   ],
   "source": [
    "df.head()\n",
    "df.sample(frac=1)"
   ]
  },
  {
   "cell_type": "code",
   "execution_count": 46,
   "metadata": {},
   "outputs": [
    {
     "name": "stdout",
     "output_type": "stream",
     "text": [
      "              precision    recall  f1-score   support\n",
      "\n",
      "           0       0.65      0.55      0.59      1430\n",
      "           1       0.93      0.14      0.24       562\n",
      "           2       0.61      0.03      0.06       501\n",
      "           3       0.71      0.05      0.08       443\n",
      "           4       0.09      0.92      0.16       314\n",
      "           5       0.85      0.04      0.07       284\n",
      "           6       0.68      0.05      0.10       275\n",
      "           7       0.67      0.03      0.05       229\n",
      "           8       0.92      0.06      0.11       211\n",
      "           9       0.82      0.19      0.31       208\n",
      "          10       0.78      0.10      0.19       200\n",
      "          11       1.00      0.05      0.09        66\n",
      "          12       0.00      0.00      0.00        52\n",
      "          13       0.00      0.00      0.00        23\n",
      "\n",
      "    accuracy                           0.27      4798\n",
      "   macro avg       0.62      0.16      0.15      4798\n",
      "weighted avg       0.68      0.27      0.27      4798\n",
      "\n"
     ]
    },
    {
     "name": "stderr",
     "output_type": "stream",
     "text": [
      "/home/mahima/.local/lib/python3.10/site-packages/sklearn/metrics/_classification.py:1497: UndefinedMetricWarning: Precision is ill-defined and being set to 0.0 in labels with no predicted samples. Use `zero_division` parameter to control this behavior.\n",
      "  _warn_prf(average, modifier, f\"{metric.capitalize()} is\", len(result))\n",
      "/home/mahima/.local/lib/python3.10/site-packages/sklearn/metrics/_classification.py:1497: UndefinedMetricWarning: Precision is ill-defined and being set to 0.0 in labels with no predicted samples. Use `zero_division` parameter to control this behavior.\n",
      "  _warn_prf(average, modifier, f\"{metric.capitalize()} is\", len(result))\n",
      "/home/mahima/.local/lib/python3.10/site-packages/sklearn/metrics/_classification.py:1497: UndefinedMetricWarning: Precision is ill-defined and being set to 0.0 in labels with no predicted samples. Use `zero_division` parameter to control this behavior.\n",
      "  _warn_prf(average, modifier, f\"{metric.capitalize()} is\", len(result))\n"
     ]
    }
   ],
   "source": [
    "from sklearn.model_selection import train_test_split\n",
    "from sklearn.pipeline import Pipeline\n",
    "from sklearn.metrics import classification_report\n",
    "from sklearn.neighbors import KNeighborsClassifier\n",
    "from sklearn.feature_extraction.text import TfidfVectorizer\n",
    "X_train, X_test, y_train, y_test = train_test_split(df.complain, df.label_num, test_size=0.33, random_state=1, stratify=df.label_num)\n",
    "\n",
    "clf=Pipeline([('vectorizer_tfidf',TfidfVectorizer()),\n",
    "           (   'KNN',KNeighborsClassifier())])\n",
    "clf.fit(X_train,y_train)\n",
    "y_pred=clf.predict(X_test)\n",
    "print(classification_report(y_test,y_pred))"
   ]
  },
  {
   "cell_type": "code",
   "execution_count": 47,
   "metadata": {},
   "outputs": [
    {
     "name": "stdout",
     "output_type": "stream",
     "text": [
      "              precision    recall  f1-score   support\n",
      "\n",
      "           0       0.59      0.95      0.73      1430\n",
      "           1       0.63      0.85      0.73       562\n",
      "           2       0.30      0.13      0.18       501\n",
      "           3       0.47      0.54      0.50       443\n",
      "           4       0.69      0.61      0.64       314\n",
      "           5       0.62      0.13      0.22       284\n",
      "           6       0.90      0.63      0.74       275\n",
      "           7       0.69      0.21      0.32       229\n",
      "           8       0.91      0.40      0.56       211\n",
      "           9       0.70      0.55      0.62       208\n",
      "          10       0.69      0.45      0.55       200\n",
      "          11       1.00      0.03      0.06        66\n",
      "          12       1.00      0.12      0.21        52\n",
      "          13       0.00      0.00      0.00        23\n",
      "\n",
      "    accuracy                           0.60      4798\n",
      "   macro avg       0.66      0.40      0.43      4798\n",
      "weighted avg       0.61      0.60      0.56      4798\n",
      "\n"
     ]
    },
    {
     "name": "stderr",
     "output_type": "stream",
     "text": [
      "/home/mahima/.local/lib/python3.10/site-packages/sklearn/metrics/_classification.py:1497: UndefinedMetricWarning: Precision is ill-defined and being set to 0.0 in labels with no predicted samples. Use `zero_division` parameter to control this behavior.\n",
      "  _warn_prf(average, modifier, f\"{metric.capitalize()} is\", len(result))\n",
      "/home/mahima/.local/lib/python3.10/site-packages/sklearn/metrics/_classification.py:1497: UndefinedMetricWarning: Precision is ill-defined and being set to 0.0 in labels with no predicted samples. Use `zero_division` parameter to control this behavior.\n",
      "  _warn_prf(average, modifier, f\"{metric.capitalize()} is\", len(result))\n",
      "/home/mahima/.local/lib/python3.10/site-packages/sklearn/metrics/_classification.py:1497: UndefinedMetricWarning: Precision is ill-defined and being set to 0.0 in labels with no predicted samples. Use `zero_division` parameter to control this behavior.\n",
      "  _warn_prf(average, modifier, f\"{metric.capitalize()} is\", len(result))\n"
     ]
    }
   ],
   "source": [
    "from sklearn.model_selection import train_test_split\n",
    "from sklearn.pipeline import Pipeline\n",
    "from sklearn.metrics import classification_report\n",
    "from sklearn.ensemble import RandomForestClassifier\n",
    "from sklearn.feature_extraction.text import TfidfVectorizer\n",
    "X_train, X_test, y_train, y_test = train_test_split(df.complain, df.label_num, test_size=0.33, random_state=1, stratify=df.label_num)\n",
    "\n",
    "clf=Pipeline([('vectorizer_tfidf',TfidfVectorizer()),\n",
    "           (   'Random',RandomForestClassifier())])\n",
    "clf.fit(X_train,y_train)\n",
    "y_pred=clf.predict(X_test)\n",
    "print(classification_report(y_test,y_pred))"
   ]
  },
  {
   "cell_type": "code",
   "execution_count": null,
   "metadata": {},
   "outputs": [],
   "source": []
  }
 ],
 "metadata": {
  "kernelspec": {
   "display_name": "Python 3",
   "language": "python",
   "name": "python3"
  },
  "language_info": {
   "codemirror_mode": {
    "name": "ipython",
    "version": 3
   },
   "file_extension": ".py",
   "mimetype": "text/x-python",
   "name": "python",
   "nbconvert_exporter": "python",
   "pygments_lexer": "ipython3",
   "version": "3.10.12"
  }
 },
 "nbformat": 4,
 "nbformat_minor": 2
}
