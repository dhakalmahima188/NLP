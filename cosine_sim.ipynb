{
 "cells": [
  {
   "cell_type": "code",
   "execution_count": 2,
   "metadata": {},
   "outputs": [
    {
     "data": {
      "text/plain": [
       "array([[1.]])"
      ]
     },
     "execution_count": 2,
     "metadata": {},
     "output_type": "execute_result"
    }
   ],
   "source": [
    "from sklearn.metrics.pairwise import cosine_similarity\n",
    "cosine_similarity([[3,1]], [[6,2]])"
   ]
  },
  {
   "cell_type": "code",
   "execution_count": 18,
   "metadata": {},
   "outputs": [],
   "source": [
    "doc1='''My Name is Mahima Dhakal. I use Samsung Galaxy A52s. \n",
    "Galaxy Phones are portable and easy to use .Galaxy phones have a good market in Nepal than iphone.'''\n",
    "doc2='''My mom use iphone 14 pro max. Iphone is a very expensive phone.Iphones ahve a limited and narrow market in nepal than samsung galaxy'''\n",
    "doc3='''My roommate use Samsung Galaxy A52s. I like the features of Samsung Galaxy A52s.'''"
   ]
  },
  {
   "cell_type": "code",
   "execution_count": 19,
   "metadata": {},
   "outputs": [
    {
     "name": "stdout",
     "output_type": "stream",
     "text": [
      "                                            Document  iPhone Count  \\\n",
      "0  My Name is Mahima Dhakal. I use Samsung Galaxy...             1   \n",
      "1  My mom use iphone 14 pro max. Iphone is a very...             3   \n",
      "2  My roommate use Samsung Galaxy A52s. I like th...             0   \n",
      "\n",
      "   Galaxy Count  \n",
      "0             3  \n",
      "1             1  \n",
      "2             2  \n"
     ]
    }
   ],
   "source": [
    "import pandas as pd\n",
    "data = {'Document': [doc1, doc2,doc3]}\n",
    "df = pd.DataFrame(data)\n",
    "\n",
    "# Count occurrences of 'iPhone' and 'Galaxy'\n",
    "df['iPhone Count'] = df['Document'].str.count('iphone|Iphone|IPhone|iPhones')\n",
    "df['Galaxy Count'] = df['Document'].str.count('Galaxy|galaxy')\n",
    "\n",
    "# Display the DataFrame\n",
    "print(df)"
   ]
  },
  {
   "cell_type": "code",
   "execution_count": 24,
   "metadata": {},
   "outputs": [
    {
     "data": {
      "text/plain": [
       "array([[0.9486833]])"
      ]
     },
     "execution_count": 24,
     "metadata": {},
     "output_type": "execute_result"
    }
   ],
   "source": [
    "doc1_iphone_count = df.loc[0, 'iPhone Count'] #row 0, column 'iPhone Count'\n",
    "doc1_galaxy_count = df.loc[0, 'Galaxy Count']\n",
    "\n",
    "doc2_iphone_count = df.loc[1, 'iPhone Count']\n",
    "doc2_galaxy_count = df.loc[1, 'Galaxy Count']\n",
    "\n",
    "doc3_iphone_count = df.loc[2, 'iPhone Count']\n",
    "doc3_galaxy_count = df.loc[2, 'Galaxy Count']\n",
    "\n",
    "# Print cosine similarity\n",
    "cosine_similarity([[doc1_iphone_count, doc1_galaxy_count]], [[doc2_iphone_count, doc2_galaxy_count]])\n",
    "cosine_similarity([[doc1_iphone_count, doc1_galaxy_count]], [[doc3_iphone_count, doc3_galaxy_count]])"
   ]
  },
  {
   "cell_type": "code",
   "execution_count": 25,
   "metadata": {},
   "outputs": [
    {
     "data": {
      "text/html": [
       "<div>\n",
       "<style scoped>\n",
       "    .dataframe tbody tr th:only-of-type {\n",
       "        vertical-align: middle;\n",
       "    }\n",
       "\n",
       "    .dataframe tbody tr th {\n",
       "        vertical-align: top;\n",
       "    }\n",
       "\n",
       "    .dataframe thead th {\n",
       "        text-align: right;\n",
       "    }\n",
       "</style>\n",
       "<table border=\"1\" class=\"dataframe\">\n",
       "  <thead>\n",
       "    <tr style=\"text-align: right;\">\n",
       "      <th></th>\n",
       "      <th>iphone</th>\n",
       "      <th>galaxy</th>\n",
       "    </tr>\n",
       "  </thead>\n",
       "  <tbody>\n",
       "    <tr>\n",
       "      <th>doc1</th>\n",
       "      <td>1</td>\n",
       "      <td>3</td>\n",
       "    </tr>\n",
       "    <tr>\n",
       "      <th>doc2</th>\n",
       "      <td>3</td>\n",
       "      <td>1</td>\n",
       "    </tr>\n",
       "    <tr>\n",
       "      <th>doc3</th>\n",
       "      <td>0</td>\n",
       "      <td>2</td>\n",
       "    </tr>\n",
       "  </tbody>\n",
       "</table>\n",
       "</div>"
      ],
      "text/plain": [
       "      iphone  galaxy\n",
       "doc1       1       3\n",
       "doc2       3       1\n",
       "doc3       0       2"
      ]
     },
     "execution_count": 25,
     "metadata": {},
     "output_type": "execute_result"
    }
   ],
   "source": [
    "df=pd.DataFrame([\n",
    "    {\n",
    "        'iphone':doc1_iphone_count,\n",
    "        'galaxy':doc1_galaxy_count\n",
    "    },\n",
    "    {\n",
    "        'iphone':doc2_iphone_count,\n",
    "        'galaxy':doc2_galaxy_count\n",
    "    },\n",
    "    {\n",
    "        'iphone':doc3_iphone_count,\n",
    "        'galaxy':doc3_galaxy_count\n",
    "        }\n",
    "],\n",
    "                index=['doc1','doc2','doc3']\n",
    ")\n",
    "df"
   ]
  },
  {
   "cell_type": "code",
   "execution_count": 26,
   "metadata": {},
   "outputs": [
    {
     "data": {
      "text/html": [
       "<div>\n",
       "<style scoped>\n",
       "    .dataframe tbody tr th:only-of-type {\n",
       "        vertical-align: middle;\n",
       "    }\n",
       "\n",
       "    .dataframe tbody tr th {\n",
       "        vertical-align: top;\n",
       "    }\n",
       "\n",
       "    .dataframe thead th {\n",
       "        text-align: right;\n",
       "    }\n",
       "</style>\n",
       "<table border=\"1\" class=\"dataframe\">\n",
       "  <thead>\n",
       "    <tr style=\"text-align: right;\">\n",
       "      <th></th>\n",
       "      <th>iphone</th>\n",
       "      <th>galaxy</th>\n",
       "    </tr>\n",
       "  </thead>\n",
       "  <tbody>\n",
       "    <tr>\n",
       "      <th>doc3</th>\n",
       "      <td>0</td>\n",
       "      <td>2</td>\n",
       "    </tr>\n",
       "  </tbody>\n",
       "</table>\n",
       "</div>"
      ],
      "text/plain": [
       "      iphone  galaxy\n",
       "doc3       0       2"
      ]
     },
     "execution_count": 26,
     "metadata": {},
     "output_type": "execute_result"
    }
   ],
   "source": [
    "df.loc['doc3':'doc3']"
   ]
  },
  {
   "cell_type": "code",
   "execution_count": 27,
   "metadata": {},
   "outputs": [
    {
     "data": {
      "text/plain": [
       "array([[0.6]])"
      ]
     },
     "execution_count": 27,
     "metadata": {},
     "output_type": "execute_result"
    }
   ],
   "source": [
    "cosine_similarity(df.loc['doc1':'doc1'], df.loc['doc2':'doc2'])"
   ]
  },
  {
   "cell_type": "code",
   "execution_count": 28,
   "metadata": {},
   "outputs": [
    {
     "data": {
      "text/plain": [
       "array([[0.9486833]])"
      ]
     },
     "execution_count": 28,
     "metadata": {},
     "output_type": "execute_result"
    }
   ],
   "source": [
    "cosine_similarity(df.loc['doc1':'doc1'], df.loc['doc3':'doc3'])"
   ]
  },
  {
   "cell_type": "code",
   "execution_count": null,
   "metadata": {},
   "outputs": [],
   "source": []
  }
 ],
 "metadata": {
  "kernelspec": {
   "display_name": "Python 3",
   "language": "python",
   "name": "python3"
  },
  "language_info": {
   "codemirror_mode": {
    "name": "ipython",
    "version": 3
   },
   "file_extension": ".py",
   "mimetype": "text/x-python",
   "name": "python",
   "nbconvert_exporter": "python",
   "pygments_lexer": "ipython3",
   "version": "3.10.12"
  }
 },
 "nbformat": 4,
 "nbformat_minor": 2
}
