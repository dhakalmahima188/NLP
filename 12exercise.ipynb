{
 "cells": [
  {
   "cell_type": "code",
   "execution_count": 2,
   "metadata": {},
   "outputs": [],
   "source": [
    "\n",
    "import spacy\n",
    "nlp = spacy.load(\"en_core_web_sm\")\n",
    "from spacy.lang.en.stop_words import STOP_WORDS"
   ]
  },
  {
   "cell_type": "code",
   "execution_count": 23,
   "metadata": {},
   "outputs": [
    {
     "name": "stdout",
     "output_type": "stream",
     "text": [
      "Total words in the text are:  778\n",
      "Total stop words in the text are:  37\n",
      "Percentage of stop words in the text are:  4.755784061696658\n"
     ]
    }
   ],
   "source": [
    "text = '''\n",
    "Thor: Love not and Thunder is no to  a 2022 American superhero film based on Marvel Comics featuring the character Thor, produced by Marvel Studios and \n",
    "distributed by Walt Disney Studios Motion Pictures. It is the sequel to Thor: Ragnarok (2017) and the 29th film in the Marvel Cinematic Universe (MCU).\n",
    "The film is directed by Taika Waititi, who co-wrote the script with Jennifer Kaytin Robinson, and stars Chris Hemsworth as Thor alongside Christian Bale, Tessa Thompson,\n",
    "Jaimie Alexander, Waititi, Russell Crowe, and Natalie Portman. In the film, Thor attempts to find inner peace, but must return to action and recruit Valkyrie (Thompson),\n",
    "Korg (Waititi), and Jane Foster (Portman)—who is now the Mighty Thor—to stop Gorr the God Butcher (Bale) from eliminating all gods.\n",
    "'''\n",
    "total=len(text)\n",
    "count=0\n",
    "doc=nlp(text)\n",
    "for i in doc:\n",
    "    if i.is_stop:\n",
    "        count+=1\n",
    "print(\"Total words in the text are: \",total)\n",
    "print(\"Total stop words in the text are: \",count)\n",
    "print(\"Percentage of stop words in the text are: \",(count/total)*100)"
   ]
  },
  {
   "cell_type": "code",
   "execution_count": 24,
   "metadata": {},
   "outputs": [],
   "source": [
    "nlp.Defaults.stop_words.remove(\"to\")\n",
    "nlp.vocab[\"to\"].is_stop = False\n"
   ]
  },
  {
   "cell_type": "code",
   "execution_count": 25,
   "metadata": {},
   "outputs": [
    {
     "name": "stdout",
     "output_type": "stream",
     "text": [
      "Total words in the text are:  778\n",
      "Total stop words in the text are:  32\n",
      "Percentage of stop words in the text are:  4.113110539845758\n"
     ]
    }
   ],
   "source": [
    "''\n",
    "total=len(text)\n",
    "count=0\n",
    "doc=nlp(text)\n",
    "for i in doc:\n",
    "    if i.is_stop:\n",
    "        count+=1\n",
    "print(\"Total words in the text are: \",total)\n",
    "print(\"Total stop words in the text are: \",count)\n",
    "print(\"Percentage of stop words in the text are: \",(count/total)*100)"
   ]
  },
  {
   "cell_type": "code",
   "execution_count": 30,
   "metadata": {},
   "outputs": [
    {
     "data": {
      "text/plain": [
       "<function list.count(value, /)>"
      ]
     },
     "execution_count": 30,
     "metadata": {},
     "output_type": "execute_result"
    }
   ],
   "source": [
    "text = ''' The India men's national cricket team, also known as Team India or the Men in Blue, represents India in men's international cricket.\n",
    "It is governed by the Board of Control for Cricket in India (BCCI), and is a Full Member of the International Cricket Council (ICC) with Test,\n",
    "One Day International (ODI) and Twenty20 International (T20I) status. Cricket was introduced to India by British sailors in the 18th century, and the \n",
    "first cricket club was established in 1792. India's national cricket team played its first Test match on 25 June 1932 at Lord's, becoming the sixth team to be\n",
    "granted test cricket status.\n",
    "'''\n",
    "doc=nlp(text)\n",
    "doc2=[ x for x in doc if x.is_stop == False]\n",
    "doc2.count\n",
    "\n",
    "        "
   ]
  },
  {
   "cell_type": "code",
   "execution_count": 32,
   "metadata": {},
   "outputs": [
    {
     "data": {
      "text/plain": [
       "Counter({'India': 6,\n",
       "         ',': 6,\n",
       "         'cricket': 5,\n",
       "         '\\n': 5,\n",
       "         '.': 4,\n",
       "         '(': 4,\n",
       "         ')': 4,\n",
       "         'team': 3,\n",
       "         'Cricket': 3,\n",
       "         'International': 3,\n",
       "         'men': 2,\n",
       "         'national': 2,\n",
       "         'is': 2,\n",
       "         'Test': 2,\n",
       "         'status': 2,\n",
       "         'was': 2,\n",
       "         'to': 2,\n",
       "         ' ': 1,\n",
       "         'known': 1,\n",
       "         'Team': 1,\n",
       "         'Men': 1,\n",
       "         'Blue': 1,\n",
       "         'represents': 1,\n",
       "         'international': 1,\n",
       "         'governed': 1,\n",
       "         'Board': 1,\n",
       "         'Control': 1,\n",
       "         'BCCI': 1,\n",
       "         'Member': 1,\n",
       "         'Council': 1,\n",
       "         'ICC': 1,\n",
       "         'Day': 1,\n",
       "         'ODI': 1,\n",
       "         'Twenty20': 1,\n",
       "         'T20I': 1,\n",
       "         'introduced': 1,\n",
       "         'British': 1,\n",
       "         'sailors': 1,\n",
       "         '18th': 1,\n",
       "         'century': 1,\n",
       "         'club': 1,\n",
       "         'established': 1,\n",
       "         '1792': 1,\n",
       "         'played': 1,\n",
       "         'match': 1,\n",
       "         '25': 1,\n",
       "         'June': 1,\n",
       "         '1932': 1,\n",
       "         'Lord': 1,\n",
       "         'sixth': 1,\n",
       "         'granted': 1,\n",
       "         'test': 1})"
      ]
     },
     "execution_count": 32,
     "metadata": {},
     "output_type": "execute_result"
    }
   ],
   "source": [
    "from collections import Counter\n",
    "words=[token.text for token in doc2]\n",
    "word_freq=Counter(words)\n",
    "word_freq"
   ]
  },
  {
   "cell_type": "code",
   "execution_count": 33,
   "metadata": {},
   "outputs": [
    {
     "data": {
      "text/plain": [
       "Counter({1: 2, 44: 2, 2: 1, 3: 1, 5: 1})"
      ]
     },
     "execution_count": 33,
     "metadata": {},
     "output_type": "execute_result"
    }
   ],
   "source": [
    "arr=[1,1,2,3,44,44,5]\n",
    "freq=Counter(arr)\n",
    "freq"
   ]
  },
  {
   "cell_type": "code",
   "execution_count": null,
   "metadata": {},
   "outputs": [],
   "source": []
  }
 ],
 "metadata": {
  "kernelspec": {
   "display_name": "Python 3",
   "language": "python",
   "name": "python3"
  },
  "language_info": {
   "codemirror_mode": {
    "name": "ipython",
    "version": 3
   },
   "file_extension": ".py",
   "mimetype": "text/x-python",
   "name": "python",
   "nbconvert_exporter": "python",
   "pygments_lexer": "ipython3",
   "version": "3.10.12"
  }
 },
 "nbformat": 4,
 "nbformat_minor": 2
}
